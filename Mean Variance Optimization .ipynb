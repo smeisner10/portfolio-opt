{
 "cells": [
  {
   "cell_type": "code",
   "execution_count": null,
   "id": "44934a19-7877-4c33-94bd-ba90ec609a0d",
   "metadata": {},
   "outputs": [],
   "source": [
    "### Data Retrieval from yahoo finance\n",
    "\n",
    "import yfinance as yahooFinance\n",
    "import pandas as pd\n",
    "import numpy as np\n",
    "import datetime\n",
    " \n",
    "def get_data(startDate, endDate, tickers):\n",
    "    s1 = yahooFinance.Ticker(tickers[0]).history(\n",
    "        start=startDate, end=endDate).reset_index()\n",
    "    s2 = yahooFinance.Ticker(tickers[1]).history(\n",
    "        start=startDate, end=endDate).reset_index()\n",
    "    s3 = yahooFinance.Ticker(tickers[2]).history(\n",
    "        start=startDate, end=endDate).reset_index()\n",
    "    s4 = yahooFinance.Ticker(tickers[3]).history(\n",
    "        start=startDate, end=endDate).reset_index()\n",
    "    data = pd.DataFrame()\n",
    "    all_assets = [s1, s2, s3, s4]\n",
    "\n",
    "    for i, asset in enumerate(all_assets):\n",
    "        asset = asset.reset_index()\n",
    "        lb = tickers[i].lower()\n",
    "        data[lb] = asset['Close']\n",
    "    data['date'] = s1.Date\n",
    "    return data\n",
    "tickers1 = [\"VTI\", \"AGG\", \"DBC\", \"^VIX\"]\n",
    "startDate = datetime.datetime(2010, 1, 1)\n",
    "endDate = datetime.datetime(2023, 12, 1)\n",
    "data = get_data( startDate, endDate,tickers1)\n",
    "data"
   ]
  },
  {
   "cell_type": "code",
   "execution_count": null,
   "id": "354bd41a-0ab9-4e5e-a63c-352f82307c1e",
   "metadata": {},
   "outputs": [],
   "source": [
    "tickers1 = [\"VTI\", \"AGG\", \"DBC\", \"^VIX\"]\n",
    "startDate = datetime.datetime(2010, 1, 1)\n",
    "endDate = datetime.datetime(2023, 12, 1)\n",
    "data = get_data( startDate, endDate,tickers1)\n",
    "data"
   ]
  },
  {
   "cell_type": "code",
   "execution_count": null,
   "id": "c411fd5e",
   "metadata": {},
   "outputs": [],
   "source": [
    "#prices = [vti.Close, agg.Close, dbc.Close, vix.Close]\n",
    "prices_df = pd.DataFrame(data = {'date': vti.index,'vti':vti.Open.values, 'agg':agg.Open.values, \n",
    "                                 'dbc':dbc.Open.values, 'vix':vix.Open.values})\n",
    "prices_df"
   ]
  },
  {
   "cell_type": "code",
   "execution_count": null,
   "id": "20769ea4",
   "metadata": {},
   "outputs": [],
   "source": [
    "prices_df['vti_log_returns'] = np.log1p(prices_df.vti.pct_change())\n",
    "prices_df['agg_log_returns'] = np.log1p(prices_df['agg'].pct_change())\n",
    "prices_df['dbc_log_returns'] = np.log1p(prices_df.dbc.pct_change())\n",
    "prices_df['vix_log_returns'] = np.log1p(prices_df.vix.pct_change())"
   ]
  },
  {
   "cell_type": "code",
   "execution_count": null,
   "id": "e267d7f2",
   "metadata": {},
   "outputs": [],
   "source": [
    "prices_df = prices_df.set_index(prices_df.date)\n",
    "prices_df = prices_df.drop(columns = 'date')"
   ]
  },
  {
   "cell_type": "code",
   "execution_count": null,
   "id": "652724e3",
   "metadata": {},
   "outputs": [],
   "source": [
    "log_returns = prices_df.drop(columns = {'vti', 'agg', 'dbc', 'vix'})\n",
    "log_returns"
   ]
  },
  {
   "cell_type": "code",
   "execution_count": null,
   "id": "6712ddf5",
   "metadata": {},
   "outputs": [],
   "source": [
    "log_returns"
   ]
  },
  {
   "cell_type": "code",
   "execution_count": null,
   "id": "ed37aee4",
   "metadata": {},
   "outputs": [],
   "source": [
    "returns_only = returns[['vti_return', 'agg_return', 'dbc_return', 'vix_return']]\n",
    "returns_only"
   ]
  },
  {
   "cell_type": "code",
   "execution_count": null,
   "id": "568e3a6c",
   "metadata": {},
   "outputs": [],
   "source": [
    "#MVO experimentation\n",
    "\n",
    "from scipy.optimize import minimize\n",
    "def calculate_moving_average(df, window_size):\n",
    "    return df.rolling(window=window_size).mean()\n",
    "\n",
    "def mean_variance_optimization(returns_df):\n",
    "    \n",
    "    mean_returns = returns_df.mean()\n",
    "    cov_matrix = returns_df.cov()\n",
    "    num_assets = len(returns_df.columns)\n",
    "\n",
    "    def neg(weights):\n",
    "        return -np.sum(mean_returns * weights)\n",
    "    \n",
    "    weight_sum_constraint = (np.sum(weights) = 1)\n",
    "\n",
    "    bounds = tuple((0, 1) for _ in range(num_assets))\n",
    "\n",
    "    initial_weights = np.ones(num_assets) / num_assets\n",
    "\n",
    "    result = minimize(neg, cov_matrix, initial_weights, method='SLSQP', bounds=bounds, constraints=[weight_sum_constraint])\n",
    "\n",
    "    return result.x\n",
    "\n",
    "\n"
   ]
  },
  {
   "cell_type": "code",
   "execution_count": null,
   "id": "89a1a13d",
   "metadata": {},
   "outputs": [],
   "source": [
    "weights = mean_variance_optimization(returns_only[0:50])\n",
    "weights"
   ]
  },
  {
   "cell_type": "code",
   "execution_count": null,
   "id": "83fd48d1",
   "metadata": {},
   "outputs": [],
   "source": [
    "cov_matrix = returns_only[0:51].cov()"
   ]
  },
  {
   "cell_type": "code",
   "execution_count": null,
   "id": "abe71725",
   "metadata": {},
   "outputs": [],
   "source": [
    "cov_matrix"
   ]
  },
  {
   "cell_type": "code",
   "execution_count": null,
   "id": "131cc31a",
   "metadata": {},
   "outputs": [],
   "source": [
    "\n",
    "windows = log_returns.rolling(50, min_periods = 50)\n",
    "weights_df = pd.DataFrame()\n",
    "\n",
    "for i in windows:\n",
    "    weights = mean_variance_optimization(i)\n",
    "    weights_df = pd.concat([weights_df, pd.DataFrame([weights])], ignore_index=True)\n",
    "    \n",
    "    "
   ]
  },
  {
   "cell_type": "code",
   "execution_count": null,
   "id": "f64e598e",
   "metadata": {},
   "outputs": [],
   "source": [
    "windows"
   ]
  },
  {
   "cell_type": "code",
   "execution_count": null,
   "id": "12ff6ab3",
   "metadata": {},
   "outputs": [],
   "source": [
    "##Alternate simplified mvo approach with explicity variance minimizationt term:\n",
    "def mean_variance_optimization(returns_df):\n",
    "\n",
    "    returns = returns_df.mean()\n",
    "    covariance = returns_df.cov()\n",
    "\n",
    "\n",
    "    P = matrix(covariance.values)\n",
    "    q = matrix(-returns)\n",
    "    G = matrix(-np.identity(4))  # Negative identity matrix for inequality constraints\n",
    "    h = matrix(np.zeros(4))  # Constraint: weights must be non-negative\n",
    "    A = matrix(1.0, (1, 4))  # Constraint: sum of weights must equal 1\n",
    "    b = matrix(1.0)\n",
    "\n",
    "\n",
    "    solvers.options['show_progress'] = False\n",
    "    solution = solvers.qp(P, q, G, h, A, b)\n",
    "\n",
    "\n",
    "    weights = np.array(solution['x']).flatten()\n",
    "    return weights\n"
   ]
  },
  {
   "cell_type": "code",
   "execution_count": null,
   "id": "3442b302",
   "metadata": {},
   "outputs": [],
   "source": [
    "returns_by_weight = pd.DataFrame(log_returns.values*weights_df.values, columns=returns_only.columns)"
   ]
  },
  {
   "cell_type": "code",
   "execution_count": null,
   "id": "272bdaae",
   "metadata": {},
   "outputs": [],
   "source": [
    "returns_by_weight"
   ]
  },
  {
   "cell_type": "code",
   "execution_count": null,
   "id": "3657a5d7",
   "metadata": {},
   "outputs": [],
   "source": [
    "total_returns = returns_by_weight.sum(axis=1)\n",
    "total_returns"
   ]
  },
  {
   "cell_type": "code",
   "execution_count": null,
   "id": "3ef7f7d1",
   "metadata": {},
   "outputs": [],
   "source": [
    "import matplotlib.pyplot as plt\n",
    "plt.plot(total_returns.cumsum())"
   ]
  },
  {
   "cell_type": "code",
   "execution_count": null,
   "id": "a02f33ed",
   "metadata": {},
   "outputs": [],
   "source": [
    "windows = returns.drop(columns = ['date']).rolling(50)\n",
    "weights_df = pd.DataFrame()\n",
    "\n",
    "for i in windows:\n",
    "    weights = mean_variance_optimization(i)\n",
    "    weights_df = pd.concat([weights_df, pd.DataFrame([weights])], ignore_index=True)\n",
    "    \n",
    "    "
   ]
  },
  {
   "cell_type": "code",
   "execution_count": null,
   "id": "e1c9edfd",
   "metadata": {},
   "outputs": [],
   "source": [
    "returns = returns.drop(columns = ['date'])\n",
    "returns[1:]"
   ]
  },
  {
   "cell_type": "code",
   "execution_count": null,
   "id": "755ee86b",
   "metadata": {},
   "outputs": [],
   "source": [
    "weighted_prices = pd.DataFrame(weights_df[:-1].values*returns[1:].values,\n",
    "                               columns=returns[1:].columns)\n",
    "weighted_prices"
   ]
  },
  {
   "cell_type": "code",
   "execution_count": null,
   "id": "0c545ba0",
   "metadata": {},
   "outputs": [],
   "source": [
    "total_daily_prices = weighted_prices.sum(axis = 1)\n",
    "total_daily_prices"
   ]
  },
  {
   "cell_type": "code",
   "execution_count": null,
   "id": "99147d7b",
   "metadata": {},
   "outputs": [],
   "source": [
    "total_returns = total_daily_prices.pct_change(1)\n",
    "total_returns"
   ]
  },
  {
   "cell_type": "code",
   "execution_count": null,
   "id": "4acfef8a",
   "metadata": {},
   "outputs": [],
   "source": [
    "money = 1\n",
    "money_arr = [money]\n",
    "for i in total_returns[1:]:\n",
    "    money = money + money * i\n",
    "    money_arr.append(money)\n",
    "    print(money)\n",
    "money"
   ]
  },
  {
   "cell_type": "code",
   "execution_count": null,
   "id": "ae452fb1",
   "metadata": {},
   "outputs": [],
   "source": [
    "plot(money_arr)"
   ]
  },
  {
   "cell_type": "code",
   "execution_count": null,
   "id": "cd55f75f",
   "metadata": {},
   "outputs": [],
   "source": [
    "from matplotlib.pyplot import plot \n",
    "\n",
    "plot(total_returns)"
   ]
  },
  {
   "cell_type": "code",
   "execution_count": null,
   "id": "40420184",
   "metadata": {},
   "outputs": [],
   "source": [
    "# So operate under the assumption of rebalance at close everyday. "
   ]
  },
  {
   "cell_type": "code",
   "execution_count": null,
   "id": "a0afe407",
   "metadata": {},
   "outputs": [],
   "source": [
    "#putting it all together:\n",
    "\n",
    "from scipy.optimize import minimize\n",
    "\n",
    "def get_data(startDate, endDate, tickers):\n",
    "    s1 = yahooFinance.Ticker(tickers[0]).history(\n",
    "        start=startDate, end=endDate).reset_index()\n",
    "    s2 = yahooFinance.Ticker(tickers[1]).history(\n",
    "        start=startDate, end=endDate).reset_index()\n",
    "    s3 = yahooFinance.Ticker(tickers[2]).history(\n",
    "        start=startDate, end=endDate).reset_index()\n",
    "    s4 = yahooFinance.Ticker(tickers[3]).history(\n",
    "        start=startDate, end=endDate).reset_index()\n",
    "    data = pd.DataFrame()\n",
    "    all_assets = [s1, s2, s3, s4]\n",
    "\n",
    "    for i, asset in enumerate(all_assets):\n",
    "        asset = asset.reset_index()\n",
    "        lb = tickers[i].lower()\n",
    "        data[lb] = asset['Close']\n",
    "\n",
    "    return data\n",
    "\n",
    "\n",
    "def mean_variance_optimization(returns_df):\n",
    "\n",
    "    returns = returns_df.mean()\n",
    "    covariance = returns_df.cov()\n",
    "\n",
    "\n",
    "    P = matrix(covariance.values)\n",
    "    q = matrix(-returns)\n",
    "    G = matrix(-np.identity(4))  # Negative identity matrix for inequality constraints\n",
    "    h = matrix(np.zeros(4))  # Constraint: weights must be non-negative\n",
    "    A = matrix(1.0, (1, 4))  # Constraint: sum of weights must equal 1\n",
    "    b = matrix(1.0)\n",
    "\n",
    "\n",
    "    solvers.options['show_progress'] = False\n",
    "    solution = solvers.qp(P, q, G, h, A, b)\n",
    "\n",
    "\n",
    "    weights = np.array(solution['x']).flatten()\n",
    "    return weights\n",
    "\n"
   ]
  },
  {
   "cell_type": "code",
   "execution_count": null,
   "id": "d0083b0f",
   "metadata": {},
   "outputs": [],
   "source": [
    "from matplotlib.pyplot import plot \n",
    "\n",
    "tickers1 = [\"VTI\", \"AGG\", \"DBC\", \"^VIX\"]\n",
    "startDate = datetime.datetime(2010, 1, 1)\n",
    "endDate = datetime.datetime(2021, 1, 1)\n",
    "prices = get_data(startDate, endDate,tickers1)\n",
    "\n",
    "\n",
    "windows = prices.rolling(50)\n",
    "weights_df = pd.DataFrame()\n",
    "\n",
    "for i in windows:\n",
    "    try:\n",
    "        weights = mean_variance_optimization(i)\n",
    "        weights_df = pd.concat([weights_df, pd.DataFrame([weights])], ignore_index=True)\n",
    "    except:\n",
    "        pass\n",
    "\n",
    "\n",
    "weighted_prices = pd.DataFrame(weights_df[:-1].values*prices[2:].values,\n",
    "                               columns=prices[1:].columns)\n",
    "\n",
    "total_daily_prices = weighted_prices.sum(axis = 1)\n",
    "total_returns = total_daily_prices.pct_change(1)\n",
    "\n",
    "money = 1\n",
    "money_arr = [money]\n",
    "for i in total_returns[1:]:\n",
    "    money = money + money * i\n",
    "    money_arr.append(money)\n",
    "\n",
    "\n",
    "\n",
    "plot(range(len(prices[2:])),money_arr)"
   ]
  },
  {
   "cell_type": "code",
   "execution_count": null,
   "id": "43097b7f",
   "metadata": {},
   "outputs": [],
   "source": [
    "weights_df = weights_df.rename(columns={\"0\": \"vti\", \"1\": \"agg\", '2':\"dbc\",})"
   ]
  },
  {
   "cell_type": "code",
   "execution_count": null,
   "id": "58fb846e",
   "metadata": {},
   "outputs": [],
   "source": [
    "#Plotting\n",
    "counter = 0\n",
    "for i in weights_df.columns:\n",
    "    plot(weights_df[i], label = prices.columns[counter])\n",
    "    conuter = counter + 1"
   ]
  },
  {
   "cell_type": "code",
   "execution_count": null,
   "id": "79341dac",
   "metadata": {},
   "outputs": [],
   "source": [
    "plot(weights_df)"
   ]
  },
  {
   "cell_type": "code",
   "execution_count": null,
   "id": "3aa188e1",
   "metadata": {},
   "outputs": [],
   "source": [
    "portfolio_variance"
   ]
  },
  {
   "cell_type": "code",
   "execution_count": null,
   "id": "ba4c1dd5",
   "metadata": {},
   "outputs": [],
   "source": [
    "weights.value"
   ]
  }
 ],
 "metadata": {
  "kernelspec": {
   "display_name": "Python 3 (ipykernel)",
   "language": "python",
   "name": "python3"
  },
  "language_info": {
   "codemirror_mode": {
    "name": "ipython",
    "version": 3
   },
   "file_extension": ".py",
   "mimetype": "text/x-python",
   "name": "python",
   "nbconvert_exporter": "python",
   "pygments_lexer": "ipython3",
   "version": "3.11.5"
  }
 },
 "nbformat": 4,
 "nbformat_minor": 5
}
