{
 "cells": [
  {
   "cell_type": "code",
   "execution_count": 1,
   "id": "44934a19-7877-4c33-94bd-ba90ec609a0d",
   "metadata": {},
   "outputs": [
    {
     "name": "stderr",
     "output_type": "stream",
     "text": [
      "/Users/samuelmeisner/anaconda3/lib/python3.10/site-packages/yfinance/base.py:48: FutureWarning: The default dtype for empty Series will be 'object' instead of 'float64' in a future version. Specify a dtype explicitly to silence this warning.\n",
      "  _empty_series = pd.Series()\n"
     ]
    }
   ],
   "source": [
    "import yfinance as yahooFinance\n",
    "import pandas as pd\n",
    "import datetime\n",
    "\n",
    "import numpy as np\n",
    "\n",
    "import torch\n",
    "import torch.nn as nn\n",
    "import torch.optim as optim\n",
    " \n",
    "startDate = datetime.datetime(2006, 2, 6) # modifying this from 1,1,06 to 2,6,06\n",
    "endDate = datetime.datetime(2020, 12, 31)\n",
    "\n",
    "vti = yahooFinance.Ticker(\"VTI\").history(start=startDate,end=endDate).reset_index()\n",
    "agg = yahooFinance.Ticker(\"AGG\").history(start=startDate,end=endDate).reset_index()\n",
    "dbc = yahooFinance.Ticker(\"DBC\").history(start=startDate,end=endDate).reset_index()\n",
    "vix = yahooFinance.Ticker(\"^VIX\").history(start=startDate,end=endDate).reset_index()\n",
    " \n",
    "all_assets = [vti, agg, dbc, vix]\n",
    "labels = [\"vti\", \"agg\",\"dbc\",\"vix\"]\n",
    "\n",
    "# look at dividends, capital gains"
   ]
  },
  {
   "cell_type": "code",
   "execution_count": 2,
   "id": "b3b3db6d-8a75-45c0-9000-47e29c2375d0",
   "metadata": {},
   "outputs": [],
   "source": [
    "for i, asset in enumerate(all_assets):\n",
    "    asset = asset.reset_index()\n",
    "    asset['Returns'] = (asset['Close']-asset['Open'])/asset['Open']\n",
    "    asset['Date'] = asset['Date'].dt.date\n",
    "    all_assets[i] = asset"
   ]
  },
  {
   "cell_type": "code",
   "execution_count": 3,
   "id": "a3d7f99d-7bd0-43a4-b3db-cf6a30a448af",
   "metadata": {},
   "outputs": [],
   "source": [
    "returns = pd.DataFrame()\n",
    "returns['Date'] = all_assets[0]['Date']\n",
    "for i, l in enumerate(labels):\n",
    "    returns[l] = all_assets[i]['Close']\n",
    "    returns[l + '_return'] = all_assets[i]['Returns']"
   ]
  },
  {
   "cell_type": "code",
   "execution_count": 4,
   "id": "51b43405-ef31-49c0-b2d6-9d11bcecf155",
   "metadata": {},
   "outputs": [
    {
     "data": {
      "text/html": [
       "<div>\n",
       "<style scoped>\n",
       "    .dataframe tbody tr th:only-of-type {\n",
       "        vertical-align: middle;\n",
       "    }\n",
       "\n",
       "    .dataframe tbody tr th {\n",
       "        vertical-align: top;\n",
       "    }\n",
       "\n",
       "    .dataframe thead th {\n",
       "        text-align: right;\n",
       "    }\n",
       "</style>\n",
       "<table border=\"1\" class=\"dataframe\">\n",
       "  <thead>\n",
       "    <tr style=\"text-align: right;\">\n",
       "      <th></th>\n",
       "      <th>Date</th>\n",
       "      <th>vti</th>\n",
       "      <th>vti_return</th>\n",
       "      <th>agg</th>\n",
       "      <th>agg_return</th>\n",
       "      <th>dbc</th>\n",
       "      <th>dbc_return</th>\n",
       "      <th>vix</th>\n",
       "      <th>vix_return</th>\n",
       "    </tr>\n",
       "  </thead>\n",
       "  <tbody>\n",
       "    <tr>\n",
       "      <th>0</th>\n",
       "      <td>2006-02-06</td>\n",
       "      <td>45.108856</td>\n",
       "      <td>0.001903</td>\n",
       "      <td>57.877396</td>\n",
       "      <td>0.001399</td>\n",
       "      <td>20.889496</td>\n",
       "      <td>-0.014257</td>\n",
       "      <td>13.040000</td>\n",
       "      <td>-0.029039</td>\n",
       "    </tr>\n",
       "    <tr>\n",
       "      <th>1</th>\n",
       "      <td>2006-02-07</td>\n",
       "      <td>44.669655</td>\n",
       "      <td>-0.007143</td>\n",
       "      <td>57.836903</td>\n",
       "      <td>-0.001894</td>\n",
       "      <td>20.285257</td>\n",
       "      <td>-0.022869</td>\n",
       "      <td>13.590000</td>\n",
       "      <td>0.029545</td>\n",
       "    </tr>\n",
       "    <tr>\n",
       "      <th>2</th>\n",
       "      <td>2006-02-08</td>\n",
       "      <td>44.991028</td>\n",
       "      <td>0.006068</td>\n",
       "      <td>57.808014</td>\n",
       "      <td>-0.000998</td>\n",
       "      <td>20.198935</td>\n",
       "      <td>-0.003831</td>\n",
       "      <td>12.830000</td>\n",
       "      <td>-0.043251</td>\n",
       "    </tr>\n",
       "    <tr>\n",
       "      <th>3</th>\n",
       "      <td>2006-02-09</td>\n",
       "      <td>44.905327</td>\n",
       "      <td>-0.004670</td>\n",
       "      <td>57.842705</td>\n",
       "      <td>0.000200</td>\n",
       "      <td>20.388840</td>\n",
       "      <td>0.002547</td>\n",
       "      <td>13.120000</td>\n",
       "      <td>0.044586</td>\n",
       "    </tr>\n",
       "    <tr>\n",
       "      <th>4</th>\n",
       "      <td>2006-02-10</td>\n",
       "      <td>44.998165</td>\n",
       "      <td>0.002865</td>\n",
       "      <td>57.721416</td>\n",
       "      <td>-0.001997</td>\n",
       "      <td>20.017660</td>\n",
       "      <td>-0.019450</td>\n",
       "      <td>12.870000</td>\n",
       "      <td>-0.035955</td>\n",
       "    </tr>\n",
       "    <tr>\n",
       "      <th>...</th>\n",
       "      <td>...</td>\n",
       "      <td>...</td>\n",
       "      <td>...</td>\n",
       "      <td>...</td>\n",
       "      <td>...</td>\n",
       "      <td>...</td>\n",
       "      <td>...</td>\n",
       "      <td>...</td>\n",
       "      <td>...</td>\n",
       "    </tr>\n",
       "    <tr>\n",
       "      <th>3747</th>\n",
       "      <td>2020-12-23</td>\n",
       "      <td>184.022537</td>\n",
       "      <td>-0.001911</td>\n",
       "      <td>109.330139</td>\n",
       "      <td>0.000594</td>\n",
       "      <td>13.794738</td>\n",
       "      <td>0.006220</td>\n",
       "      <td>23.309999</td>\n",
       "      <td>-0.007663</td>\n",
       "    </tr>\n",
       "    <tr>\n",
       "      <th>3748</th>\n",
       "      <td>2020-12-24</td>\n",
       "      <td>184.330368</td>\n",
       "      <td>-0.000311</td>\n",
       "      <td>109.432167</td>\n",
       "      <td>0.000424</td>\n",
       "      <td>13.832635</td>\n",
       "      <td>0.004818</td>\n",
       "      <td>21.530001</td>\n",
       "      <td>-0.041833</td>\n",
       "    </tr>\n",
       "    <tr>\n",
       "      <th>3749</th>\n",
       "      <td>2020-12-28</td>\n",
       "      <td>185.496643</td>\n",
       "      <td>-0.002826</td>\n",
       "      <td>109.450714</td>\n",
       "      <td>0.000339</td>\n",
       "      <td>13.747366</td>\n",
       "      <td>-0.005483</td>\n",
       "      <td>21.700001</td>\n",
       "      <td>-0.018544</td>\n",
       "    </tr>\n",
       "    <tr>\n",
       "      <th>3750</th>\n",
       "      <td>2020-12-29</td>\n",
       "      <td>184.722305</td>\n",
       "      <td>-0.008365</td>\n",
       "      <td>109.469261</td>\n",
       "      <td>-0.000254</td>\n",
       "      <td>13.785263</td>\n",
       "      <td>0.001376</td>\n",
       "      <td>23.080000</td>\n",
       "      <td>0.068024</td>\n",
       "    </tr>\n",
       "    <tr>\n",
       "      <th>3751</th>\n",
       "      <td>2020-12-30</td>\n",
       "      <td>185.219437</td>\n",
       "      <td>-0.000774</td>\n",
       "      <td>109.534195</td>\n",
       "      <td>0.000085</td>\n",
       "      <td>13.870533</td>\n",
       "      <td>0.006878</td>\n",
       "      <td>22.770000</td>\n",
       "      <td>0.008415</td>\n",
       "    </tr>\n",
       "  </tbody>\n",
       "</table>\n",
       "<p>3752 rows × 9 columns</p>\n",
       "</div>"
      ],
      "text/plain": [
       "            Date         vti  vti_return         agg  agg_return        dbc  \\\n",
       "0     2006-02-06   45.108856    0.001903   57.877396    0.001399  20.889496   \n",
       "1     2006-02-07   44.669655   -0.007143   57.836903   -0.001894  20.285257   \n",
       "2     2006-02-08   44.991028    0.006068   57.808014   -0.000998  20.198935   \n",
       "3     2006-02-09   44.905327   -0.004670   57.842705    0.000200  20.388840   \n",
       "4     2006-02-10   44.998165    0.002865   57.721416   -0.001997  20.017660   \n",
       "...          ...         ...         ...         ...         ...        ...   \n",
       "3747  2020-12-23  184.022537   -0.001911  109.330139    0.000594  13.794738   \n",
       "3748  2020-12-24  184.330368   -0.000311  109.432167    0.000424  13.832635   \n",
       "3749  2020-12-28  185.496643   -0.002826  109.450714    0.000339  13.747366   \n",
       "3750  2020-12-29  184.722305   -0.008365  109.469261   -0.000254  13.785263   \n",
       "3751  2020-12-30  185.219437   -0.000774  109.534195    0.000085  13.870533   \n",
       "\n",
       "      dbc_return        vix  vix_return  \n",
       "0      -0.014257  13.040000   -0.029039  \n",
       "1      -0.022869  13.590000    0.029545  \n",
       "2      -0.003831  12.830000   -0.043251  \n",
       "3       0.002547  13.120000    0.044586  \n",
       "4      -0.019450  12.870000   -0.035955  \n",
       "...          ...        ...         ...  \n",
       "3747    0.006220  23.309999   -0.007663  \n",
       "3748    0.004818  21.530001   -0.041833  \n",
       "3749   -0.005483  21.700001   -0.018544  \n",
       "3750    0.001376  23.080000    0.068024  \n",
       "3751    0.006878  22.770000    0.008415  \n",
       "\n",
       "[3752 rows x 9 columns]"
      ]
     },
     "execution_count": 4,
     "metadata": {},
     "output_type": "execute_result"
    }
   ],
   "source": [
    "returns"
   ]
  },
  {
   "cell_type": "code",
   "execution_count": 5,
   "id": "4bae1bcc-2790-4192-9139-5bbbc072e877",
   "metadata": {},
   "outputs": [
    {
     "data": {
      "image/png": "[encoded data removed]",
      "text/plain": [
       "<Figure size 640x480 with 1 Axes>"
      ]
     },
     "metadata": {},
     "output_type": "display_data"
    }
   ],
   "source": [
    "import matplotlib.pyplot as plt\n",
    "plt.plot(returns['vti_return'],label=\"vti\", alpha=0.3)\n",
    "plt.plot(returns['agg_return'],label=\"agg\", alpha=0.3)\n",
    "plt.plot(returns['dbc_return'],label=\"dbc\", alpha=0.3)\n",
    "plt.plot(returns['vix_return'],label=\"vix\", alpha=0.3)\n",
    "plt.legend()\n",
    "plt.show()"
   ]
  },
  {
   "cell_type": "code",
   "execution_count": 6,
   "id": "9aee3b65-0c0c-48f0-84bc-21ffd9782959",
   "metadata": {},
   "outputs": [],
   "source": [
    "window = 50  \n",
    "\n",
    "# Function to create sequence with lookback\n",
    "def create_sequence(data, lookback):\n",
    "    X = []\n",
    "    for i in range(len(data) - lookback):\n",
    "        X.append(data[i:i+lookback])\n",
    "    return np.array(X)\n",
    "\n",
    "# Create sequences with the lookback window\n",
    "X = create_sequence(returns.drop(columns=[\"Date\"]), window)\n",
    "\n",
    "# Splitting data into training and testing sets\n",
    "train_size = int(len(X) * 0.8)  # 80% for training\n",
    "test_size = len(X) - train_size\n",
    "X_train, X_test = X[:train_size], X[train_size:]"
   ]
  },
  {
   "cell_type": "code",
   "execution_count": 7,
   "id": "67e07411-9d7d-4b5a-81a9-90d577f99310",
   "metadata": {},
   "outputs": [
    {
     "data": {
      "text/plain": [
       "(50, 8)"
      ]
     },
     "execution_count": 7,
     "metadata": {},
     "output_type": "execute_result"
    }
   ],
   "source": [
    "X_train[np.random.randint(0, X_train.shape[0])].shape"
   ]
  },
  {
   "cell_type": "code",
   "execution_count": 23,
   "id": "7805f4c2-e732-4f00-8b5e-3aa5a24a81b4",
   "metadata": {},
   "outputs": [],
   "source": [
    "X_train = torch.tensor(X_train)"
   ]
  },
  {
   "cell_type": "code",
   "execution_count": 24,
   "id": "d24cff44-e969-4a9c-a7dd-27a89f4e0b5b",
   "metadata": {},
   "outputs": [],
   "source": [
    "def sharpe_ratio(returns_data):\n",
    "    mn = returns_data.mean()\n",
    "    denom = np.sqrt( (returns_data**2).mean() - (returns_data.mean())**2 )\n",
    "    loss = torch.tensor(mn / denom,dtype=torch.float64)\n",
    "    return loss"
   ]
  },
  {
   "cell_type": "code",
   "execution_count": 78,
   "id": "99d6b289-fa7f-4518-8b3f-9677c8d98f5e",
   "metadata": {},
   "outputs": [],
   "source": [
    "def port_returns(weights, data, i):\n",
    "    returns = data[i+1,:][0]\n",
    "    returns = torch.tensor([returns[i] for i in [1,3,5,7]],dtype=torch.float64)\n",
    "    return weights.clone().detach().float()@returns.clone().detach().float()\n",
    "    #return torch.tensor(weights,dtype=torch.float64)@(torch.tensor(returns,dtype=torch.float64))#.detatch().numpy())"
   ]
  },
  {
   "cell_type": "code",
   "execution_count": 79,
   "id": "a1d478fc-992f-4ada-9605-dd5dcb468f90",
   "metadata": {},
   "outputs": [],
   "source": [
    "n_assets = 4\n",
    "model = nn.Sequential(\n",
    "    #nn.Flatten(),\n",
    "    nn.Linear(int(window * n_assets * 2), 12),\n",
    "    nn.ReLU(),\n",
    "    nn.Linear(12,4),\n",
    "    nn.Softmax()\n",
    ")\n",
    "\n",
    "learning_rate = 1e-4;\n",
    "optimizer = torch.optim.Adam(model.parameters(), lr=learning_rate)"
   ]
  },
  {
   "cell_type": "code",
   "execution_count": 80,
   "id": "1a168071-74ce-426a-9e99-39b46d296159",
   "metadata": {},
   "outputs": [
    {
     "name": "stderr",
     "output_type": "stream",
     "text": [
      "/var/folders/tm/w_ghk37d14lgh4dy7_rf03240000gn/T/ipykernel_64555/3537005640.py:4: UserWarning: To copy construct from a tensor, it is recommended to use sourceTensor.clone().detach() or sourceTensor.clone().detach().requires_grad_(True), rather than torch.tensor(sourceTensor).\n",
      "  loss = torch.tensor(mn / denom,dtype=torch.float64)\n"
     ]
    },
    {
     "name": "stdout",
     "output_type": "stream",
     "text": [
      "Epoch 1\n",
      "loss=0.050\n",
      "Epoch 1001\n",
      "loss=0.117\n",
      "Epoch 2001\n",
      "loss=-0.164\n"
     ]
    },
    {
     "ename": "KeyboardInterrupt",
     "evalue": "",
     "output_type": "error",
     "traceback": [
      "\u001b[0;31m---------------------------------------------------------------------------\u001b[0m",
      "\u001b[0;31mKeyboardInterrupt\u001b[0m                         Traceback (most recent call last)",
      "Cell \u001b[0;32mIn[80], line 14\u001b[0m\n\u001b[1;32m     12\u001b[0m     batch \u001b[38;5;241m=\u001b[39m X_train[i]\u001b[38;5;241m.\u001b[39mflatten()\u001b[38;5;241m.\u001b[39mfloat()\n\u001b[1;32m     13\u001b[0m     weights \u001b[38;5;241m=\u001b[39m model(batch)\n\u001b[0;32m---> 14\u001b[0m     this_return \u001b[38;5;241m=\u001b[39m \u001b[43mport_returns\u001b[49m\u001b[43m(\u001b[49m\u001b[43mweights\u001b[49m\u001b[43m,\u001b[49m\u001b[43m \u001b[49m\u001b[43mX_train\u001b[49m\u001b[43m,\u001b[49m\u001b[43m \u001b[49m\u001b[43mi\u001b[49m\u001b[43m)\u001b[49m\n\u001b[1;32m     15\u001b[0m     batch_returns\u001b[38;5;241m.\u001b[39mappend(this_return)\n\u001b[1;32m     16\u001b[0m batch_returns \u001b[38;5;241m=\u001b[39m torch\u001b[38;5;241m.\u001b[39mtensor(batch_returns,dtype\u001b[38;5;241m=\u001b[39mtorch\u001b[38;5;241m.\u001b[39mfloat64)\n",
      "Cell \u001b[0;32mIn[78], line 4\u001b[0m, in \u001b[0;36mport_returns\u001b[0;34m(weights, data, i)\u001b[0m\n\u001b[1;32m      2\u001b[0m returns \u001b[38;5;241m=\u001b[39m data[i\u001b[38;5;241m+\u001b[39m\u001b[38;5;241m1\u001b[39m,:][\u001b[38;5;241m0\u001b[39m]\n\u001b[1;32m      3\u001b[0m returns \u001b[38;5;241m=\u001b[39m torch\u001b[38;5;241m.\u001b[39mtensor([returns[i] \u001b[38;5;28;01mfor\u001b[39;00m i \u001b[38;5;129;01min\u001b[39;00m [\u001b[38;5;241m1\u001b[39m,\u001b[38;5;241m3\u001b[39m,\u001b[38;5;241m5\u001b[39m,\u001b[38;5;241m7\u001b[39m]],dtype\u001b[38;5;241m=\u001b[39mtorch\u001b[38;5;241m.\u001b[39mfloat64)\n\u001b[0;32m----> 4\u001b[0m \u001b[38;5;28;01mreturn\u001b[39;00m \u001b[43mweights\u001b[49m\u001b[38;5;241;43m.\u001b[39;49m\u001b[43mclone\u001b[49m\u001b[43m(\u001b[49m\u001b[43m)\u001b[49m\u001b[38;5;241m.\u001b[39mdetach()\u001b[38;5;241m.\u001b[39mfloat()\u001b[38;5;129m@returns\u001b[39m\u001b[38;5;241m.\u001b[39mclone()\u001b[38;5;241m.\u001b[39mdetach()\u001b[38;5;241m.\u001b[39mfloat()\n",
      "\u001b[0;31mKeyboardInterrupt\u001b[0m: "
     ]
    }
   ],
   "source": [
    "epochs = 10000\n",
    "batch_size = 64\n",
    "losses = []\n",
    "test_losses = []\n",
    "go = True\n",
    "t = 0\n",
    "\n",
    "while t < epochs:\n",
    "    batch_returns = []\n",
    "    for _ in range(batch_size):\n",
    "        i = np.random.randint(0, X_train.shape[0]-1)\n",
    "        batch = X_train[i].flatten().float()\n",
    "        weights = model(batch)\n",
    "        this_return = port_returns(weights, X_train, i)\n",
    "        batch_returns.append(this_return)\n",
    "    batch_returns = torch.tensor(batch_returns,dtype=torch.float64)\n",
    "    loss = -1*sharpe_ratio(batch_returns)\n",
    "    loss.requires_grad=True\n",
    "    losses.append(loss.item())\n",
    "    \n",
    "    optimizer.zero_grad()\n",
    "    loss.backward()\n",
    "    optimizer.step()\n",
    "    \n",
    "    # test_preds = model(X_test_2)\n",
    "    # test_losses.append(loss_fn(test_preds, y_test))\n",
    "    if t % 1000== 0: \n",
    "        print(f\"Epoch {t+1}\")\n",
    "        print(f\"loss={loss.item():.3f}\")\n",
    "    t += 1"
   ]
  },
  {
   "cell_type": "code",
   "execution_count": 61,
   "id": "9271eb25-288a-4c7c-8df9-481ab15acd0e",
   "metadata": {},
   "outputs": [],
   "source": [
    "import matplotlib.pyplot as plt"
   ]
  },
  {
   "cell_type": "code",
   "execution_count": 74,
   "id": "aae523a3-1f01-46b1-ab0d-d085012bb485",
   "metadata": {},
   "outputs": [
    {
     "data": {
      "image/png": "[encoded data removed]",
      "text/plain": [
       "<Figure size 640x480 with 1 Axes>"
      ]
     },
     "metadata": {},
     "output_type": "display_data"
    }
   ],
   "source": [
    "plt.plot(range(len(losses)), losses)\n",
    "plt.xlabel(\"Epoch\")\n",
    "plt.ylabel(\"Loss (negative Sharpe)\")\n",
    "plt.show()"
   ]
  },
  {
   "cell_type": "code",
   "execution_count": null,
   "id": "d378f790-58f4-4714-a5f2-80b8d46ed8a3",
   "metadata": {},
   "outputs": [],
   "source": []
  }
 ],
 "metadata": {
  "kernelspec": {
   "display_name": "Python 3 (ipykernel)",
   "language": "python",
   "name": "python3"
  },
  "language_info": {
   "codemirror_mode": {
    "name": "ipython",
    "version": 3
   },
   "file_extension": ".py",
   "mimetype": "text/x-python",
   "name": "python",
   "nbconvert_exporter": "python",
   "pygments_lexer": "ipython3",
   "version": "3.10.9"
  }
 },
 "nbformat": 4,
 "nbformat_minor": 5
}
